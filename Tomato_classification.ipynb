{
  "cells": [
    {
      "cell_type": "markdown",
      "metadata": {
        "id": "view-in-github",
        "colab_type": "text"
      },
      "source": [
        "<a href=\"https://colab.research.google.com/github/sujialagar/Tomato-Classification/blob/main/Tomato_classification.ipynb\" target=\"_parent\"><img src=\"https://colab.research.google.com/assets/colab-badge.svg\" alt=\"Open In Colab\"/></a>"
      ]
    },
    {
      "cell_type": "code",
      "execution_count": null,
      "metadata": {
        "id": "gBM_D2bB-oAx"
      },
      "outputs": [],
      "source": [
        "!pip install opendatasets --upgrade --quiet\n",
        "!pip install jovian --upgrade --quiet"
      ]
    },
    {
      "cell_type": "code",
      "execution_count": null,
      "metadata": {
        "id": "6pv4DtFk-n5k"
      },
      "outputs": [],
      "source": [
        "import pandas as pd\n",
        "import os\n",
        "import jovian\n",
        "import opendatasets as od"
      ]
    },
    {
      "cell_type": "code",
      "execution_count": null,
      "metadata": {
        "colab": {
          "base_uri": "https://localhost:8080/"
        },
        "id": "34phbNs3-vYi",
        "outputId": "ad7ba779-12c5-46b0-990b-d3c578a783bb"
      },
      "outputs": [
        {
          "output_type": "stream",
          "name": "stdout",
          "text": [
            "Please provide your Kaggle credentials to download this dataset. Learn more: http://bit.ly/kaggle-creds\n",
            "Your Kaggle username: ranjanisiva\n",
            "Your Kaggle Key: ··········\n",
            "Dataset URL: https://www.kaggle.com/datasets/enalis/tomatoes-dataset\n",
            "Downloading tomatoes-dataset.zip to ./tomatoes-dataset\n"
          ]
        },
        {
          "output_type": "stream",
          "name": "stderr",
          "text": [
            "100%|██████████| 93.7M/93.7M [00:02<00:00, 48.7MB/s]\n"
          ]
        },
        {
          "output_type": "stream",
          "name": "stdout",
          "text": [
            "\n"
          ]
        }
      ],
      "source": [
        "# Assign the Kaggle data set URL into variable\n",
        "dataset = 'https://www.kaggle.com/datasets/enalis/tomatoes-dataset'\n",
        "# Using opendatasets let's download the data sets\n",
        "od.download(dataset)"
      ]
    },
    {
      "cell_type": "code",
      "execution_count": null,
      "metadata": {
        "colab": {
          "base_uri": "https://localhost:8080/"
        },
        "id": "bF9UYt8g6tRf",
        "outputId": "dc1d444c-78cf-4ee5-e7c1-e02aa2710493"
      },
      "outputs": [
        {
          "output_type": "stream",
          "name": "stdout",
          "text": [
            "Found 5202 images belonging to 4 classes.\n",
            "Found 144 images belonging to 4 classes.\n"
          ]
        }
      ],
      "source": [
        "from tensorflow.keras.preprocessing.image import ImageDataGenerator\n",
        "\n",
        "datagen = ImageDataGenerator(rescale=1./255, validation_split=0.2)\n",
        "train_gen = datagen.flow_from_directory('/content/tomatoes-dataset/content/ieee-mbl-cls/train',\n",
        "                                        target_size=(224, 224),\n",
        "                                        batch_size=32,\n",
        "                                        class_mode='categorical',\n",
        "                                        subset='training')\n",
        "val_gen = datagen.flow_from_directory('/content/tomatoes-dataset/content/ieee-mbl-cls/val',\n",
        "                                      target_size=(224, 224),\n",
        "                                      batch_size=32,\n",
        "                                      class_mode='categorical',\n",
        "                                      subset='validation')\n"
      ]
    },
    {
      "cell_type": "code",
      "execution_count": null,
      "metadata": {
        "colab": {
          "base_uri": "https://localhost:8080/"
        },
        "id": "qsbi06YzeKW5",
        "outputId": "59f39c44-422f-4250-8d9f-462cc853f750"
      },
      "outputs": [
        {
          "output_type": "stream",
          "name": "stdout",
          "text": [
            "Found 5202 images belonging to 4 classes.\n"
          ]
        }
      ],
      "source": [
        "#data augmentation\n",
        "train_datagen = ImageDataGenerator(rescale=1./255, validation_split=0.2,\n",
        "                                   rotation_range=20, # rotate images by 20 degrees\n",
        "                                   width_shift_range=0.2, # shift images horizontally\n",
        "                                   height_shift_range=0.2, # shift images vertically\n",
        "                                   shear_range=0.2, # shear images\n",
        "                                   zoom_range=0.2, # zoom in/out\n",
        "                                   horizontal_flip=True, # flip images horizontally\n",
        "                                   fill_mode='nearest') # fill in missing pixels\n",
        "\n",
        "train_gen = train_datagen.flow_from_directory('/content/tomatoes-dataset/content/ieee-mbl-cls/train',\n",
        "                                        target_size=(224, 224),\n",
        "                                        batch_size=32,\n",
        "                                        class_mode='categorical',\n",
        "                                        subset='training')"
      ]
    },
    {
      "cell_type": "code",
      "execution_count": null,
      "metadata": {
        "id": "WreaotZdeS09",
        "colab": {
          "base_uri": "https://localhost:8080/"
        },
        "outputId": "1a9e1b7c-f310-4080-9834-98df281d147f"
      },
      "outputs": [
        {
          "output_type": "stream",
          "name": "stderr",
          "text": [
            "/usr/local/lib/python3.10/dist-packages/keras/src/layers/convolutional/base_conv.py:107: UserWarning: Do not pass an `input_shape`/`input_dim` argument to a layer. When using Sequential models, prefer using an `Input(shape)` object as the first layer in the model instead.\n",
            "  super().__init__(activity_regularizer=activity_regularizer, **kwargs)\n"
          ]
        }
      ],
      "source": [
        "#model architecture\n",
        "from tensorflow.keras.models import Sequential\n",
        "from tensorflow.keras.layers import Conv2D, MaxPooling2D, Flatten, Dense, Dropout\n",
        "\n",
        "model = Sequential([\n",
        "    Conv2D(32, (3, 3), activation='relu', input_shape=(224, 224, 3)),\n",
        "    MaxPooling2D(pool_size=(2, 2)),\n",
        "    Conv2D(64, (3, 3), activation='relu'),\n",
        "    MaxPooling2D(pool_size=(2, 2)),\n",
        "    Conv2D(128, (3, 3), activation='relu'),\n",
        "    MaxPooling2D(pool_size=(2, 2)),\n",
        "    Flatten(),\n",
        "    Dense(128, activation='relu'),\n",
        "    Dropout(0.5),\n",
        "    Dense(4, activation='softmax')  # 4 classes: Ripe, Unripe, Old, Damaged\n",
        "])\n"
      ]
    },
    {
      "cell_type": "code",
      "execution_count": null,
      "metadata": {
        "id": "50fd93pSeajT"
      },
      "outputs": [],
      "source": [
        "#Attention mechanism\n",
        "from tensorflow.keras.layers import Attention\n",
        "\n",
        "def build_model_with_attention(input_shape):\n",
        "    inputs = Input(shape=input_shape)\n",
        "    x = Conv2D(32, (3, 3), activation='relu')(inputs)\n",
        "    x = MaxPooling2D(pool_size=(2, 2))(x)\n",
        "\n",
        "    # Apply attention\n",
        "    attention = Attention()([x, x])\n",
        "\n",
        "    x = Conv2D(64, (3, 3), activation='relu')(attention)\n",
        "    x = MaxPooling2D(pool_size=(2, 2))(x)\n",
        "\n",
        "    x = Flatten()(x)\n",
        "    x = Dense(128, activation='relu')(x)\n",
        "    x = Dropout(0.5)(x)\n",
        "    outputs = Dense(4, activation='softmax')(x)\n",
        "\n",
        "    return Model(inputs, outputs)\n"
      ]
    },
    {
      "cell_type": "code",
      "execution_count": null,
      "metadata": {
        "id": "cu_NtCVjehDA"
      },
      "outputs": [],
      "source": [
        "#compile model\n",
        "model.compile(optimizer='adam',\n",
        "              loss='categorical_crossentropy',\n",
        "              metrics=['accuracy'])\n"
      ]
    },
    {
      "cell_type": "code",
      "execution_count": null,
      "metadata": {
        "colab": {
          "base_uri": "https://localhost:8080/"
        },
        "id": "OfkNuUVPelX0",
        "outputId": "26d0ca40-8238-448f-8fea-82c73e87b35d"
      },
      "outputs": [
        {
          "output_type": "stream",
          "name": "stdout",
          "text": [
            "Epoch 1/25\n",
            "\u001b[1m163/163\u001b[0m \u001b[32m━━━━━━━━━━━━━━━━━━━━\u001b[0m\u001b[37m\u001b[0m \u001b[1m62s\u001b[0m 365ms/step - accuracy: 0.8299 - loss: 0.4338 - val_accuracy: 0.8194 - val_loss: 0.4751\n",
            "Epoch 2/25\n",
            "\u001b[1m163/163\u001b[0m \u001b[32m━━━━━━━━━━━━━━━━━━━━\u001b[0m\u001b[37m\u001b[0m \u001b[1m83s\u001b[0m 370ms/step - accuracy: 0.8355 - loss: 0.4335 - val_accuracy: 0.8889 - val_loss: 0.3280\n",
            "Epoch 3/25\n",
            "\u001b[1m163/163\u001b[0m \u001b[32m━━━━━━━━━━━━━━━━━━━━\u001b[0m\u001b[37m\u001b[0m \u001b[1m64s\u001b[0m 378ms/step - accuracy: 0.8373 - loss: 0.4133 - val_accuracy: 0.8819 - val_loss: 0.2846\n",
            "Epoch 4/25\n",
            "\u001b[1m163/163\u001b[0m \u001b[32m━━━━━━━━━━━━━━━━━━━━\u001b[0m\u001b[37m\u001b[0m \u001b[1m63s\u001b[0m 370ms/step - accuracy: 0.8328 - loss: 0.4240 - val_accuracy: 0.8681 - val_loss: 0.3480\n",
            "Epoch 5/25\n",
            "\u001b[1m163/163\u001b[0m \u001b[32m━━━━━━━━━━━━━━━━━━━━\u001b[0m\u001b[37m\u001b[0m \u001b[1m81s\u001b[0m 361ms/step - accuracy: 0.8582 - loss: 0.3699 - val_accuracy: 0.8819 - val_loss: 0.4406\n",
            "Epoch 6/25\n",
            "\u001b[1m163/163\u001b[0m \u001b[32m━━━━━━━━━━━━━━━━━━━━\u001b[0m\u001b[37m\u001b[0m \u001b[1m63s\u001b[0m 365ms/step - accuracy: 0.8429 - loss: 0.4026 - val_accuracy: 0.8750 - val_loss: 0.3650\n",
            "Epoch 7/25\n",
            "\u001b[1m163/163\u001b[0m \u001b[32m━━━━━━━━━━━━━━━━━━━━\u001b[0m\u001b[37m\u001b[0m \u001b[1m64s\u001b[0m 378ms/step - accuracy: 0.8547 - loss: 0.3932 - val_accuracy: 0.8889 - val_loss: 0.3389\n",
            "Epoch 8/25\n",
            "\u001b[1m163/163\u001b[0m \u001b[32m━━━━━━━━━━━━━━━━━━━━\u001b[0m\u001b[37m\u001b[0m \u001b[1m63s\u001b[0m 370ms/step - accuracy: 0.8605 - loss: 0.3913 - val_accuracy: 0.7847 - val_loss: 0.6672\n",
            "Epoch 9/25\n",
            "\u001b[1m163/163\u001b[0m \u001b[32m━━━━━━━━━━━━━━━━━━━━\u001b[0m\u001b[37m\u001b[0m \u001b[1m82s\u001b[0m 363ms/step - accuracy: 0.8519 - loss: 0.3804 - val_accuracy: 0.8750 - val_loss: 0.3997\n",
            "Epoch 10/25\n",
            "\u001b[1m163/163\u001b[0m \u001b[32m━━━━━━━━━━━━━━━━━━━━\u001b[0m\u001b[37m\u001b[0m \u001b[1m62s\u001b[0m 366ms/step - accuracy: 0.8672 - loss: 0.3496 - val_accuracy: 0.8889 - val_loss: 0.3139\n",
            "Epoch 11/25\n",
            "\u001b[1m163/163\u001b[0m \u001b[32m━━━━━━━━━━━━━━━━━━━━\u001b[0m\u001b[37m\u001b[0m \u001b[1m81s\u001b[0m 366ms/step - accuracy: 0.8680 - loss: 0.3462 - val_accuracy: 0.8958 - val_loss: 0.2585\n",
            "Epoch 12/25\n",
            "\u001b[1m163/163\u001b[0m \u001b[32m━━━━━━━━━━━━━━━━━━━━\u001b[0m\u001b[37m\u001b[0m \u001b[1m61s\u001b[0m 362ms/step - accuracy: 0.8765 - loss: 0.3179 - val_accuracy: 0.8750 - val_loss: 0.3328\n",
            "Epoch 13/25\n",
            "\u001b[1m163/163\u001b[0m \u001b[32m━━━━━━━━━━━━━━━━━━━━\u001b[0m\u001b[37m\u001b[0m \u001b[1m83s\u001b[0m 367ms/step - accuracy: 0.8749 - loss: 0.3345 - val_accuracy: 0.9028 - val_loss: 0.3232\n",
            "Epoch 14/25\n",
            "\u001b[1m163/163\u001b[0m \u001b[32m━━━━━━━━━━━━━━━━━━━━\u001b[0m\u001b[37m\u001b[0m \u001b[1m64s\u001b[0m 376ms/step - accuracy: 0.8688 - loss: 0.3430 - val_accuracy: 0.8542 - val_loss: 0.3817\n",
            "Epoch 15/25\n",
            "\u001b[1m163/163\u001b[0m \u001b[32m━━━━━━━━━━━━━━━━━━━━\u001b[0m\u001b[37m\u001b[0m \u001b[1m62s\u001b[0m 367ms/step - accuracy: 0.8846 - loss: 0.3075 - val_accuracy: 0.8611 - val_loss: 0.3135\n",
            "Epoch 16/25\n",
            "\u001b[1m163/163\u001b[0m \u001b[32m━━━━━━━━━━━━━━━━━━━━\u001b[0m\u001b[37m\u001b[0m \u001b[1m61s\u001b[0m 362ms/step - accuracy: 0.8746 - loss: 0.3211 - val_accuracy: 0.8681 - val_loss: 0.3626\n",
            "Epoch 17/25\n",
            "\u001b[1m163/163\u001b[0m \u001b[32m━━━━━━━━━━━━━━━━━━━━\u001b[0m\u001b[37m\u001b[0m \u001b[1m62s\u001b[0m 360ms/step - accuracy: 0.8770 - loss: 0.3252 - val_accuracy: 0.8958 - val_loss: 0.2696\n",
            "Epoch 18/25\n",
            "\u001b[1m163/163\u001b[0m \u001b[32m━━━━━━━━━━━━━━━━━━━━\u001b[0m\u001b[37m\u001b[0m \u001b[1m62s\u001b[0m 363ms/step - accuracy: 0.8845 - loss: 0.3107 - val_accuracy: 0.8681 - val_loss: 0.4399\n",
            "Epoch 19/25\n",
            "\u001b[1m163/163\u001b[0m \u001b[32m━━━━━━━━━━━━━━━━━━━━\u001b[0m\u001b[37m\u001b[0m \u001b[1m81s\u001b[0m 365ms/step - accuracy: 0.8684 - loss: 0.3449 - val_accuracy: 0.8819 - val_loss: 0.2949\n",
            "Epoch 20/25\n",
            "\u001b[1m163/163\u001b[0m \u001b[32m━━━━━━━━━━━━━━━━━━━━\u001b[0m\u001b[37m\u001b[0m \u001b[1m62s\u001b[0m 364ms/step - accuracy: 0.8835 - loss: 0.2946 - val_accuracy: 0.8750 - val_loss: 0.4778\n",
            "Epoch 21/25\n",
            "\u001b[1m163/163\u001b[0m \u001b[32m━━━━━━━━━━━━━━━━━━━━\u001b[0m\u001b[37m\u001b[0m \u001b[1m63s\u001b[0m 363ms/step - accuracy: 0.8813 - loss: 0.3114 - val_accuracy: 0.8889 - val_loss: 0.3369\n",
            "Epoch 22/25\n",
            "\u001b[1m163/163\u001b[0m \u001b[32m━━━━━━━━━━━━━━━━━━━━\u001b[0m\u001b[37m\u001b[0m \u001b[1m64s\u001b[0m 378ms/step - accuracy: 0.8961 - loss: 0.2784 - val_accuracy: 0.9028 - val_loss: 0.3136\n",
            "Epoch 23/25\n",
            "\u001b[1m163/163\u001b[0m \u001b[32m━━━━━━━━━━━━━━━━━━━━\u001b[0m\u001b[37m\u001b[0m \u001b[1m80s\u001b[0m 370ms/step - accuracy: 0.8886 - loss: 0.2937 - val_accuracy: 0.8889 - val_loss: 0.3370\n",
            "Epoch 24/25\n",
            "\u001b[1m163/163\u001b[0m \u001b[32m━━━━━━━━━━━━━━━━━━━━\u001b[0m\u001b[37m\u001b[0m \u001b[1m61s\u001b[0m 362ms/step - accuracy: 0.8997 - loss: 0.2702 - val_accuracy: 0.8681 - val_loss: 0.4487\n",
            "Epoch 25/25\n",
            "\u001b[1m163/163\u001b[0m \u001b[32m━━━━━━━━━━━━━━━━━━━━\u001b[0m\u001b[37m\u001b[0m \u001b[1m62s\u001b[0m 360ms/step - accuracy: 0.9003 - loss: 0.2755 - val_accuracy: 0.9028 - val_loss: 0.3308\n"
          ]
        }
      ],
      "source": [
        "#training the model\n",
        "history = model.fit(train_gen, validation_data=val_gen, epochs=25)"
      ]
    },
    {
      "source": [
        "from sklearn.metrics import classification_report, confusion_matrix\n",
        "\n",
        "val_predictions = model.predict(val_gen)\n",
        "val_labels = val_gen.classes\n",
        "\n",
        "# Define class_names with the actual names of your classes\n",
        "class_names = ['Ripe', 'Unripe', 'Old', 'Damaged']\n",
        "\n",
        "report = classification_report(val_labels, val_predictions.argmax(axis=1), target_names=class_names)\n",
        "print(report)"
      ],
      "cell_type": "code",
      "metadata": {
        "id": "GhB993EWExNg",
        "outputId": "b13f0908-2a6e-4246-8b78-e525785ce655",
        "colab": {
          "base_uri": "https://localhost:8080/"
        }
      },
      "execution_count": null,
      "outputs": [
        {
          "output_type": "stream",
          "name": "stdout",
          "text": [
            "\u001b[1m5/5\u001b[0m \u001b[32m━━━━━━━━━━━━━━━━━━━━\u001b[0m\u001b[37m\u001b[0m \u001b[1m0s\u001b[0m 68ms/step\n",
            "              precision    recall  f1-score   support\n",
            "\n",
            "        Ripe       0.09      0.05      0.06        21\n",
            "      Unripe       0.31      0.36      0.34        44\n",
            "         Old       0.33      0.32      0.33        44\n",
            "     Damaged       0.38      0.43      0.40        35\n",
            "\n",
            "    accuracy                           0.32       144\n",
            "   macro avg       0.28      0.29      0.28       144\n",
            "weighted avg       0.30      0.32      0.31       144\n",
            "\n"
          ]
        }
      ]
    },
    {
      "cell_type": "code",
      "source": [
        "import matplotlib.pyplot as plt\n",
        "\n",
        "plt.plot(history.history['accuracy'])\n",
        "plt.plot(history.history['val_accuracy'])\n",
        "plt.title('Model Accuracy')\n",
        "plt.ylabel('Accuracy')\n",
        "plt.xlabel('Epoch')\n",
        "plt.legend(['train', 'val'], loc='upper left')\n",
        "plt.show()"
      ],
      "metadata": {
        "colab": {
          "base_uri": "https://localhost:8080/",
          "height": 472
        },
        "id": "OR_Rg7u5Eh0Q",
        "outputId": "b34e7620-a205-4ef8-fa60-81b0439c5b0b"
      },
      "execution_count": null,
      "outputs": [
        {
          "output_type": "display_data",
          "data": {
            "text/plain": [
              "<Figure size 640x480 with 1 Axes>"
            ],
            "image/png": "[encoded data removed]"
          },
          "metadata": {}
        }
      ]
    }
  ],
  "metadata": {
    "colab": {
      "provenance": [],
      "gpuType": "T4",
      "include_colab_link": true
    },
    "kernelspec": {
      "display_name": "Python 3",
      "name": "python3"
    },
    "language_info": {
      "name": "python"
    },
    "accelerator": "GPU"
  },
  "nbformat": 4,
  "nbformat_minor": 0
}